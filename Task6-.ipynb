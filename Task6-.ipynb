{
 "cells": [
  {
   "cell_type": "code",
   "execution_count": 29,
   "metadata": {},
   "outputs": [],
   "source": [
    "import json\n",
    "import requests\n",
    "import csv\n",
    "from openpyxl import Workbook"
   ]
  },
  {
   "cell_type": "code",
   "execution_count": 30,
   "metadata": {},
   "outputs": [],
   "source": [
    "url = \"https://jsonplaceholder.typicode.com/users\"\n",
    "response = requests.get(url)"
   ]
  },
  {
   "cell_type": "code",
   "execution_count": 31,
   "metadata": {},
   "outputs": [],
   "source": [
    "json_data = response.json()"
   ]
  },
  {
   "cell_type": "code",
   "execution_count": 32,
   "metadata": {},
   "outputs": [],
   "source": [
    "data = {\n",
    "    \"name\" : [],\n",
    "    \"username\": [],\n",
    "    \"email\": [],\n",
    "    \"street\" : [],\n",
    "    \"suite\" : [],\n",
    "    \"city\" : [],\n",
    "    \"zipcode\": [],\n",
    "    \"geo_lat\" : [],\n",
    "    \"geo_long\": [] \n",
    "}\n",
    "\n",
    "attributes = [\"name\", \"username\", \"email\", \"street\", \"suite\", \n",
    "    \"city\", \"zipcode\", \"geo_lat\", \"geo_long\"]\n",
    "\n",
    "for item in json_data:\n",
    "   data[\"name\"].append(item[\"name\"]) \n",
    "   data[\"username\"].append(item[\"username\"])\n",
    "   data[\"email\"].append(item[\"email\"])\n",
    "   data[\"street\"].append(item[\"address\"][\"street\"])\n",
    "   data[\"suite\"].append(item[\"address\"][\"suite\"])\n",
    "   data[\"city\"].append(item[\"address\"][\"city\"])\n",
    "   data[\"zipcode\"].append(item[\"address\"][\"zipcode\"])\n",
    "   data[\"geo_lat\"].append(item[\"address\"][\"geo\"][\"lat\"])\n",
    "   data[\"geo_long\"].append(item[\"address\"][\"geo\"][\"lng\"])"
   ]
  },
  {
   "cell_type": "code",
   "execution_count": null,
   "metadata": {},
   "outputs": [],
   "source": [
    "with open(\"users.csv\", \"w\") as csv_file:\n",
    "    writer = csv.DictWriter(csv_file, fieldnames=attributes)\n",
    "\n",
    "    writer.writeheader()\n",
    "\n",
    "    for i in range(len(data[\"name\"])):\n",
    "        writer.writerow(\n",
    "            {\n",
    "                \"name\" : data[\"name\"][i],\n",
    "                \"username\" : data[\"username\"][i],\n",
    "                \"email\" : data[\"email\"][i],\n",
    "                \"street\" : data[\"street\"][i],\n",
    "                \"suite\" : data[\"suite\"][i],\n",
    "                \"city\" : data[\"city\"][i],\n",
    "                \"zipcode\" : data[\"zipcode\"][i],\n",
    "                \"geo_lat\" : data[\"geo_lat\"][i],\n",
    "                \"geo_long\" : data[\"geo_long\"][i]\n",
    "            }\n",
    "        )"
   ]
  },
  {
   "cell_type": "code",
   "execution_count": null,
   "metadata": {},
   "outputs": [],
   "source": [
    "wb = Workbook()\n",
    "ws = wb.active\n",
    "\n",
    "ws.append(attributes)\n",
    "for i in len(data[\"name\"]):\n",
    "    ws.append([\n",
    "        data[\"name\"][i],\n",
    "        data[\"username\"][i],\n",
    "        data[\"email\"][i],\n",
    "        data[\"street\"][i],\n",
    "        data[\"suite\"][i],\n",
    "        data[\"city\"][i],\n",
    "        data[\"zipcode\"][i],\n",
    "        data[\"geo_lat\"][i],\n",
    "        data[\"geo_long\"][i]\n",
    "    ])"
   ]
  }
 ],
 "metadata": {
  "kernelspec": {
   "display_name": "webscrapping",
   "language": "python",
   "name": "python3"
  },
  "language_info": {
   "codemirror_mode": {
    "name": "ipython",
    "version": 3
   },
   "file_extension": ".py",
   "mimetype": "text/x-python",
   "name": "python",
   "nbconvert_exporter": "python",
   "pygments_lexer": "ipython3",
   "version": "3.9.15 (main, Nov 24 2022, 14:31:59) \n[GCC 11.2.0]"
  },
  "orig_nbformat": 4,
  "vscode": {
   "interpreter": {
    "hash": "549f947f7edd3d91dd373c34156c075cf7d022078524866ebe5cc35daeeedbfd"
   }
  }
 },
 "nbformat": 4,
 "nbformat_minor": 2
}
