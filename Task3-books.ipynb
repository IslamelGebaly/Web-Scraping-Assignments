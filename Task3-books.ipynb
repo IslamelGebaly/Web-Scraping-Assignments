{
 "cells": [
  {
   "cell_type": "code",
   "execution_count": 14,
   "metadata": {},
   "outputs": [],
   "source": [
    "import requests\n",
    "from bs4 import BeautifulSoup\n",
    "import csv"
   ]
  },
  {
   "cell_type": "code",
   "execution_count": 7,
   "metadata": {},
   "outputs": [],
   "source": [
    "url = \"https://books.toscrape.com/\""
   ]
  },
  {
   "cell_type": "code",
   "execution_count": 8,
   "metadata": {},
   "outputs": [],
   "source": [
    "response = requests.get(url)"
   ]
  },
  {
   "cell_type": "code",
   "execution_count": 9,
   "metadata": {},
   "outputs": [],
   "source": [
    "soup = BeautifulSoup(response.text, \"html.parser\")"
   ]
  },
  {
   "cell_type": "code",
   "execution_count": 10,
   "metadata": {},
   "outputs": [],
   "source": [
    "category_links = []\n",
    "no_pages_list = []\n",
    "aside = soup.find(\"aside\")\n",
    "for category in aside.find_all(\"a\")[1:]:\n",
    "    category_links.append(url + category.get(\"href\")[:-10])\n",
    "    response = requests.get(url + category.get(\"href\"))\n",
    "    soup = BeautifulSoup(response.text, \"html.parser\")\n",
    "    try:\n",
    "        no_pages_list.append(int(soup.select_one(\".current\").get_text().split(\"of\")[1]))\n",
    "    except:\n",
    "        no_pages_list.append(1)\n"
   ]
  },
  {
   "cell_type": "code",
   "execution_count": 16,
   "metadata": {},
   "outputs": [],
   "source": [
    "books = {\n",
    "    \"Title\" : [],\n",
    "    \"Price\" : [],\n",
    "    \"Rating\" : []\n",
    "}\n",
    "for index, link in enumerate(category_links):\n",
    "    for i in range(no_pages_list[index] + 1):\n",
    "        response = requests.get(link + f\"/page-{i}.html\")\n",
    "        soup = BeautifulSoup(response.text, \"html.parser\")\n",
    "        for product in soup.select(\".product_pod\"):\n",
    "            rating = product.find(\"p\").get(\"class\")[1]\n",
    "            books[\"Title\"].append(product.find(\"h3\").get_text())\n",
    "            books[\"Rating\"].append(rating + \" Star\")\n",
    "            books[\"Price\"].append(product.select_one(\".price_color\").get_text()[1:])"
   ]
  },
  {
   "cell_type": "code",
   "execution_count": 17,
   "metadata": {},
   "outputs": [],
   "source": [
    "with open(\"books.csv\", \"w\") as csv_file:\n",
    "    writer = csv.DictWriter(csv_file, fieldnames=[\"Title\", \"Price\", \"Rating\"], dialect=\"excel\")\n",
    "    writer.writeheader()\n",
    "\n",
    "    for i in range(len(books[\"Title\"])):\n",
    "        writer.writerow({\n",
    "            \"Title\" : books[\"Title\"][i],\n",
    "            \"Price\" : books[\"Price\"][i],\n",
    "            \"Rating\" : books[\"Rating\"][i]\n",
    "            })\n"
   ]
  },
  {
   "cell_type": "code",
   "execution_count": 18,
   "metadata": {},
   "outputs": [],
   "source": [
    "from openpyxl import Workbook\n",
    "wb = Workbook()\n",
    "ws = wb.active\n",
    "\n",
    "ws.append([\"Title\", \"Price\", \"Rating\"])\n",
    "\n",
    "for i in range(len(books[\"Title\"])):\n",
    "        ws.append([\n",
    "            books[\"Title\"][i],\n",
    "            books[\"Price\"][i],\n",
    "            books[\"Rating\"][i]\n",
    "            ])\n",
    "wb.save(\"books.xlsx\")"
   ]
  }
 ],
 "metadata": {
  "kernelspec": {
   "display_name": "webscrapping",
   "language": "python",
   "name": "python3"
  },
  "language_info": {
   "codemirror_mode": {
    "name": "ipython",
    "version": 3
   },
   "file_extension": ".py",
   "mimetype": "text/x-python",
   "name": "python",
   "nbconvert_exporter": "python",
   "pygments_lexer": "ipython3",
   "version": "3.9.15 (main, Nov 24 2022, 14:31:59) \n[GCC 11.2.0]"
  },
  "orig_nbformat": 4,
  "vscode": {
   "interpreter": {
    "hash": "549f947f7edd3d91dd373c34156c075cf7d022078524866ebe5cc35daeeedbfd"
   }
  }
 },
 "nbformat": 4,
 "nbformat_minor": 2
}
